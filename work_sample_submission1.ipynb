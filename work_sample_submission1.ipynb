{
 "cells": [
  {
   "cell_type": "code",
   "execution_count": 14,
   "id": "21117694",
   "metadata": {},
   "outputs": [],
   "source": [
    "obst = [(9,7), (8,7), (7,7), (7,8)]\n",
    "class PathFinder():\n",
    "    def __init__(self, gridsize=(10,10), start_point=(0,0), end_point=(9,9),\n",
    "                    obstacles=obst):\n",
    "        \"\"\"Initializes attributes describing the situation\"\"\"\n",
    "        from numpy import ones, array, inf\n",
    "        self.gridsize = gridsize\n",
    "        self.start_point = start_point\n",
    "        self.end_point = end_point\n",
    "        self.obstacles = obstacles\n",
    "        \n",
    "        ### Creating env attribute describing obstacles ###\n",
    "        # Initialize array\n",
    "        arrsize = (gridsize[1] + 2, gridsize[0] + 2)\n",
    "        environment = ones(arrsize, dtype=bool)\n",
    "        # Create borders of grid\n",
    "        environment[0,:] = False\n",
    "        environment[arrsize[0] - 1,:] = False\n",
    "        environment[:,0] = False\n",
    "        environment[:,arrsize[1] - 1] = False\n",
    "        # Translate coordinates of obstacles to 12x12 coordinates\n",
    "        obstacles = array(obstacles) + 1\n",
    "        # Mark obstacles on grid\n",
    "        for coord in obstacles:\n",
    "            environment[coord[1],coord[0]] = False\n",
    "        self.env = environment\n",
    "        \n",
    "        ### Creating path distances attribute ###\n",
    "        path_distances = inf*ones(arrsize)\n",
    "        path_distances[start_point[1]+1, start_point[0]+1] = 0\n",
    "        self.path_dist = path_distances\n",
    "        \n",
    "        ### Creating previous node attribute ###\n",
    "        self.prev = {(start_point[1]+1, start_point[0]+1): 'end'}\n",
    "        \n",
    "        ### Min path attribute ###\n",
    "        self.min_path = 'tbc'\n",
    "    \n",
    "    def neighbours(self, node_coords):\n",
    "        \"\"\"Returns a list of the neighbours of the node in the form of an array\"\"\"\n",
    "        from numpy import array, empty, append\n",
    "        possible_neighbours = array([[1,0],[1,1],[0,1],[-1,1],[-1,0],[-1,-1],[0,-1],[1,-1]])\n",
    "        possible_neighbours[:,0] += node_coords[0]\n",
    "        possible_neighbours[:,1] += node_coords[1]\n",
    "        # Initialize neighbours array\n",
    "        neighbours = empty((0,2), dtype=int)\n",
    "        # Add eligible neighbours\n",
    "        for pn in possible_neighbours:\n",
    "            if self.env[tuple(pn)]:\n",
    "                neighbours = append(neighbours, [pn], axis=0)\n",
    "        return neighbours\n",
    "                \n",
    "    def dijkstras_step(self, boolarr):\n",
    "        \"\"\"Performs a step of Dijkstra's algorithm\"\"\"\n",
    "        from numpy import amin, where\n",
    "        from math import sqrt\n",
    "        mins = where(self.path_dist == amin(self.path_dist[boolarr]))\n",
    "        for i in range(len(mins[0])):\n",
    "            coord = (mins[0][i], mins[1][i])\n",
    "            if boolarr[coord]:\n",
    "                break\n",
    "        dist = self.path_dist[coord]\n",
    "        boolarr[coord] = False\n",
    "        neighbours = self.neighbours(coord)\n",
    "        for neighbour in neighbours:\n",
    "            n = tuple(neighbour)\n",
    "            if neighbour[0] == coord[0] or neighbour[1] == coord[1]:\n",
    "                ndist = 1\n",
    "            else:\n",
    "                ndist = sqrt(2)\n",
    "            if self.path_dist[n] > dist + ndist:\n",
    "                self.path_dist[n] = dist + ndist\n",
    "                self.prev[n] = coord\n",
    "   \n",
    "    def find_min_path(self):\n",
    "            \"\"\"Finds the minimum path\"\"\"\n",
    "            from copy import copy\n",
    "            barr = copy(self.env)\n",
    "            # Implement Dijkstra's algorith\n",
    "            while True in barr:\n",
    "                self.dijkstras_step(barr)\n",
    "            # Initialize path list\n",
    "            path_list = [(self.end_point[1]+1, self.end_point[0]+1)]\n",
    "            # Print message is there is no path\n",
    "            if path_list[0] not in self.prev:\n",
    "                self.min_path = (None, False)\n",
    "                return \"Unable to reach delivery point\"\n",
    "            # Create a list of points on the path\n",
    "            while self.prev[path_list[0]] != 'end':\n",
    "                path_list.insert(0, self.prev[path_list[0]])\n",
    "            # Convert to required coordinate system\n",
    "            path_list = [(c[1]-1,c[0]-1) for c in path_list]\n",
    "            self.min_path = (path_list, True)\n",
    "            # Return the path taken and the number of steps in the path\n",
    "            return path_list, len(path_list) - 1\n",
    "\n",
    "\n",
    "    def plot_path(self):\n",
    "        \"\"\"Plots the path taken\"\"\"\n",
    "        from matplotlib.pyplot import imshow, plot\n",
    "        from numpy import delete\n",
    "        from copy import copy\n",
    "        boolarr = copy(self.env)\n",
    "        boolarr = delete(boolarr, 0, 0)\n",
    "        boolarr = delete(boolarr, 10, 0)\n",
    "        boolarr = delete(boolarr, 0, 1)\n",
    "        boolarr = delete(boolarr, 10, 1)\n",
    "        if self.min_path == 'tbc':\n",
    "            self.find_min_path()\n",
    "        if self.min_path[1]:\n",
    "            imshow(boolarr)\n",
    "            path = self.min_path[0]\n",
    "            x = [c[0] for c in path]\n",
    "            y = [c[1] for c in path]\n",
    "            plot(x,y, color='red')\n",
    "        else:\n",
    "            imshow(boolarr)\n",
    "        plot(self.start_point[0], self.start_point[1], marker='o', markersize=15, color='red')\n",
    "        plot(self.end_point[0], self.end_point[1], marker='*', markersize=20, color='red')"
   ]
  },
  {
   "cell_type": "code",
   "execution_count": 15,
   "id": "e469c85a",
   "metadata": {},
   "outputs": [
    {
     "name": "stdout",
     "output_type": "stream",
     "text": [
      "([(0, 0), (0, 1), (0, 2), (1, 3), (2, 4), (3, 5), (4, 6), (5, 7), (6, 8), (7, 9), (8, 9), (9, 9)], 11)\n"
     ]
    },
    {
     "data": {
      "image/png": "[encoded data removed]",
      "text/plain": [
       "<Figure size 432x288 with 1 Axes>"
      ]
     },
     "metadata": {
      "needs_background": "light"
     },
     "output_type": "display_data"
    }
   ],
   "source": [
    "### Phase 1 ###\n",
    "phase1 = PathFinder()\n",
    "print(phase1.find_min_path())\n",
    "phase1.plot_path()"
   ]
  },
  {
   "cell_type": "code",
   "execution_count": 17,
   "id": "f50181c8",
   "metadata": {},
   "outputs": [
    {
     "name": "stdout",
     "output_type": "stream",
     "text": [
      "([(0, 0), (1, 0), (2, 1), (2, 2), (3, 3), (4, 4), (4, 5), (4, 6), (5, 7), (6, 8), (7, 9), (8, 9), (9, 9)], 12)\n"
     ]
    },
    {
     "data": {
      "image/png": "[encoded data removed]",
      "text/plain": [
       "<Figure size 432x288 with 1 Axes>"
      ]
     },
     "metadata": {
      "needs_background": "light"
     },
     "output_type": "display_data"
    }
   ],
   "source": [
    "### Phase 2 ###\n",
    "from random import randint, sample\n",
    "from numpy import delete\n",
    "# Generate the 20 random obstacles\n",
    "excluded = obst +  [(0,0), (9,9)]\n",
    "population = [(i, j) for i in range(10) for j in range(10)]\n",
    "for c in excluded:\n",
    "    population.remove(c)\n",
    "additional_obstacles = sample(population, 20)\n",
    "obst2 = additional_obstacles + obst\n",
    "\n",
    "phase2 = PathFinder(obstacles=obst2)\n",
    "print(phase2.find_min_path())\n",
    "phase2.plot_path()"
   ]
  },
  {
   "cell_type": "code",
   "execution_count": 21,
   "id": "8b672370",
   "metadata": {},
   "outputs": [
    {
     "name": "stdout",
     "output_type": "stream",
     "text": [
      "Unable to reach delivery point\n"
     ]
    },
    {
     "data": {
      "image/png": "[encoded data removed]",
      "text/plain": [
       "<Figure size 432x288 with 1 Axes>"
      ]
     },
     "metadata": {
      "needs_background": "light"
     },
     "output_type": "display_data"
    }
   ],
   "source": [
    "### Bonus print error message ###\n",
    "from random import randint, sample\n",
    "from numpy import delete\n",
    "# Generate the 20 random obstacles\n",
    "excluded = obst +  [(0,0), (9,9)]\n",
    "population = [(i, j) for i in range(10) for j in range(10)]\n",
    "for c in excluded:\n",
    "    population.remove(c)\n",
    "additional_obstacles = sample(population, 20)\n",
    "obst2 = additional_obstacles + obst\n",
    "\n",
    "phase2 = PathFinder(obstacles=obst2)\n",
    "print(phase2.find_min_path())\n",
    "phase2.plot_path()"
   ]
  },
  {
   "cell_type": "code",
   "execution_count": null,
   "id": "58eaf8d4",
   "metadata": {},
   "outputs": [],
   "source": []
  }
 ],
 "metadata": {
  "kernelspec": {
   "display_name": "Python 3",
   "language": "python",
   "name": "python3"
  },
  "language_info": {
   "codemirror_mode": {
    "name": "ipython",
    "version": 3
   },
   "file_extension": ".py",
   "mimetype": "text/x-python",
   "name": "python",
   "nbconvert_exporter": "python",
   "pygments_lexer": "ipython3",
   "version": "3.8.8"
  }
 },
 "nbformat": 4,
 "nbformat_minor": 5
}
